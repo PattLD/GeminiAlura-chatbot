{
  "nbformat": 4,
  "nbformat_minor": 0,
  "metadata": {
    "colab": {
      "provenance": [],
      "authorship_tag": "ABX9TyP0sNch1h3mH4l/AMEHUPYn",
      "include_colab_link": true
    },
    "kernelspec": {
      "name": "python3",
      "display_name": "Python 3"
    },
    "language_info": {
      "name": "python"
    }
  },
  "cells": [
    {
      "cell_type": "markdown",
      "metadata": {
        "id": "view-in-github",
        "colab_type": "text"
      },
      "source": [
        "<a href=\"https://colab.research.google.com/github/PattLD/GeminiAlura-chatbot/blob/main/geminiAlura.ipynb\" target=\"_parent\"><img src=\"https://colab.research.google.com/assets/colab-badge.svg\" alt=\"Open In Colab\"/></a>"
      ]
    },
    {
      "cell_type": "code",
      "execution_count": null,
      "metadata": {
        "id": "cjWZdFY_oPG9"
      },
      "outputs": [],
      "source": [
        "!pip install -q -U google-generativeai"
      ]
    },
    {
      "cell_type": "code",
      "source": [
        "#import the Python SDK\n",
        "import google.generativeai as genai\n",
        "from google.colab import userdata\n",
        "api_key = userdata.get('SECRET_KEY')\n",
        "\n",
        "genai.configure(api_key=api_key)"
      ],
      "metadata": {
        "id": "j9VVWYz1pS6f"
      },
      "execution_count": null,
      "outputs": []
    },
    {
      "cell_type": "markdown",
      "source": [
        "Listar modelos disponíveis"
      ],
      "metadata": {
        "id": "Ve7rkZg6sAOY"
      }
    },
    {
      "cell_type": "code",
      "source": [
        "for m in genai.list_models():\n",
        "  if 'generateContent' in m.supported_generation_methods:\n",
        "    print(m.name)"
      ],
      "metadata": {
        "colab": {
          "base_uri": "https://localhost:8080/",
          "height": 139
        },
        "id": "onouMJQCsF_8",
        "outputId": "3e416c69-8f0a-45c5-c93c-5f5d39beb743"
      },
      "execution_count": null,
      "outputs": [
        {
          "output_type": "stream",
          "name": "stdout",
          "text": [
            "models/gemini-1.0-pro\n",
            "models/gemini-1.0-pro-001\n",
            "models/gemini-1.0-pro-latest\n",
            "models/gemini-1.0-pro-vision-latest\n",
            "models/gemini-1.5-pro-latest\n",
            "models/gemini-pro\n",
            "models/gemini-pro-vision\n"
          ]
        }
      ]
    },
    {
      "cell_type": "markdown",
      "source": [
        "## Candidate count\n",
        "  quantidade de respostas que a ai vai dar\n",
        "## Temperature\n",
        "  Nível de aleatoridade da Ia\n",
        "<div>\n",
        "\n",
        "\n",
        "*   1: mais criativo\n",
        "*   0: mais rídido\n",
        "\n"
      ],
      "metadata": {
        "id": "QWvzbo1Xw6Gq"
      }
    },
    {
      "cell_type": "code",
      "source": [
        "generation_config = {\n",
        "    \"temperature\": 0.5,\n",
        "}"
      ],
      "metadata": {
        "id": "OuI-wEBYu-vR"
      },
      "execution_count": null,
      "outputs": []
    },
    {
      "cell_type": "code",
      "source": [
        "safety_setting = {\n",
        "    \"HARASSMENT\": \"BLOCK_NONE\",\n",
        "    \"HATE\": \"BLOCK_NONE\",\n",
        "    \"SEXUAL\": \"BLOCK_NONE\",\n",
        "    \"DANGEROUS\": \"BLOCK_NONE\",\n",
        "}"
      ],
      "metadata": {
        "id": "GqV6ipIJv-Gb"
      },
      "execution_count": null,
      "outputs": []
    },
    {
      "cell_type": "code",
      "source": [
        "model = genai.GenerativeModel(model_name=\"gemini-1.0-pro\",\n",
        "                              generation_config=generation_config,\n",
        "                              safety_settings=safety_setting)"
      ],
      "metadata": {
        "id": "vxdjkeOzp5Pi"
      },
      "execution_count": null,
      "outputs": []
    },
    {
      "cell_type": "code",
      "source": [
        "chat = model.start_chat(history=[])"
      ],
      "metadata": {
        "id": "F5-VPEH4zEbF"
      },
      "execution_count": null,
      "outputs": []
    },
    {
      "cell_type": "code",
      "source": [
        "prompt = input(\"Esperando prompt: \")\n",
        "\n",
        "while prompt != \"fim\":\n",
        "  response = chat.send_message(prompt)\n",
        "  print(\"Resposta: \",response.text, \"\\n\")\n",
        "  prompt = input(\"Esperando prompt: \")\n"
      ],
      "metadata": {
        "colab": {
          "base_uri": "https://localhost:8080/"
        },
        "id": "ASRLV3sbzjPz",
        "outputId": "a2bdb296-0af6-4a01-d998-8b38e9ad31c5"
      },
      "execution_count": 9,
      "outputs": [
        {
          "name": "stdout",
          "output_type": "stream",
          "text": [
            "Resposta:  206 \n",
            "\n",
            "Resposta:  Existem algumas maneiras de fazer as respostas do modelo de bate-papo Gemini em Python ficarem mais longas:\n",
            "\n",
            "**1. Ajuste o parâmetro `max_length`:**\n",
            "\n",
            "O parâmetro `max_length` especifica o número máximo de tokens na resposta gerada. Você pode aumentar esse valor para permitir respostas mais longas.\n",
            "\n",
            "```python\n",
            "from transformers import AutoTokenizer, AutoModelForSeq2SeqLM\n",
            "\n",
            "tokenizer = AutoTokenizer.from_pretrained(\"microsoft/DialoGPT-medium\")\n",
            "model = AutoModelForSeq2SeqLM.from_pretrained(\"microsoft/DialoGPT-medium\")\n",
            "\n",
            "# Aumente o comprimento máximo da resposta\n",
            "max_length = 128\n",
            "\n",
            "input_ids = tokenizer(\"Hello, how are you?\", return_tensors=\"pt\").input_ids\n",
            "output = model.generate(input_ids, max_length=max_length)\n",
            "print(tokenizer.batch_decode(output, skip_special_tokens=True))\n",
            "```\n",
            "\n",
            "**2. Use técnicas de geração avançadas:**\n",
            "\n",
            "Técnicas de geração avançadas, como beam search ou amostragem top-k, podem ajudar a gerar respostas mais longas e fluentes. Você pode usar o argumento `generation_kwargs` para especificar essas técnicas.\n",
            "\n",
            "```python\n",
            "generation_kwargs = {\n",
            "    \"max_length\": 128,\n",
            "    \"num_beams\": 5,  # Aumente o número de beams para beam search\n",
            "}\n",
            "\n",
            "output = model.generate(input_ids, **generation_kwargs)\n",
            "```\n",
            "\n",
            "**3. Forneça mais contexto:**\n",
            "\n",
            "Fornecer mais contexto ao modelo pode ajudá-lo a gerar respostas mais longas e informativas. Você pode fazer isso concatenando o histórico da conversa ou fornecendo informações adicionais na entrada.\n",
            "\n",
            "```python\n",
            "# Concatene o histórico da conversa\n",
            "input_ids = tokenizer(\"Hello, how are you? I'm fine. What about you?\", return_tensors=\"pt\").input_ids\n",
            "\n",
            "output = model.generate(input_ids, max_length=128)\n",
            "```\n",
            "\n",
            "**4. Ajuste os hiperparâmetros do modelo:**\n",
            "\n",
            "Ajustar os hiperparâmetros do modelo, como o tamanho do vocabulário ou o número de camadas, também pode afetar o comprimento da resposta. No entanto, isso requer conhecimento e experiência avançados em aprendizado de máquina.\n",
            "\n",
            "**Observação:** Aumentar o comprimento da resposta pode comprometer a qualidade da resposta. É importante encontrar um equilíbrio entre o comprimento e a qualidade da resposta. \n",
            "\n",
            "Resposta:  Aqui está uma versão aprimorada do seu código que visa gerar respostas de bate-papo mais longas:\n",
            "\n",
            "```python\n",
            "import transformers\n",
            "\n",
            "# Carregue o modelo de linguagem grande\n",
            "model = transformers.AutoModelForSeq2SeqLM.from_pretrained(\"microsoft/DialoGPT-medium\")\n",
            "tokenizer = transformers.AutoTokenizer.from_pretrained(\"microsoft/DialoGPT-medium\")\n",
            "\n",
            "# Inicie um bate-papo\n",
            "chat = model.start_chat(history=[])\n",
            "\n",
            "# Defina o comprimento máximo da resposta\n",
            "max_length = 128\n",
            "\n",
            "# Loop de bate-papo\n",
            "while True:\n",
            "    # Obtenha o prompt do usuário\n",
            "    prompt = input(\"Esperando prompt: \")\n",
            "\n",
            "    # Verifique se o usuário deseja encerrar o bate-papo\n",
            "    if prompt == \"fim\":\n",
            "        break\n",
            "\n",
            "    # Envie o prompt para o modelo e gere uma resposta\n",
            "    response = chat.send_message(prompt)\n",
            "\n",
            "    # Imprima a resposta\n",
            "    print(\"Resposta: \", response.text, \"\\n\")\n",
            "```\n",
            "\n",
            "**Melhorias:**\n",
            "\n",
            "* **Comprimento máximo da resposta:** Definimos o parâmetro `max_length` para permitir respostas mais longas.\n",
            "* **Técnicas de geração avançadas:** O modelo DialoGPT-medium suporta beam search por padrão. Isso ajuda a gerar respostas mais longas e fluentes.\n",
            "* **Fornecimento de contexto:** O histórico do bate-papo é fornecido ao modelo por meio do método `start_chat`. Isso ajuda o modelo a gerar respostas mais contextualmente relevantes e longas.\n",
            "\n",
            "**Observação:** Você também pode experimentar outros modelos de linguagem grandes, como GPT-3 ou BLOOM, que são conhecidos por gerar respostas mais longas. No entanto, esses modelos podem exigir mais recursos computacionais e acesso pago. \n",
            "\n",
            "Resposta:  Para definir o parâmetro `max_length` ao usar o modelo de linguagem grande em Python, você pode usar o argumento `max_length` no método `generate`. Aqui está um exemplo:\n",
            "\n",
            "```python\n",
            "import transformers\n",
            "\n",
            "# Carregue o modelo de linguagem grande\n",
            "model = transformers.AutoModelForSeq2SeqLM.from_pretrained(\"microsoft/DialoGPT-medium\")\n",
            "tokenizer = transformers.AutoTokenizer.from_pretrained(\"microsoft/DialoGPT-medium\")\n",
            "\n",
            "# Defina o comprimento máximo da resposta\n",
            "max_length = 128\n",
            "\n",
            "# Gere uma resposta\n",
            "input_ids = tokenizer(\"Hello, how are you?\", return_tensors=\"pt\").input_ids\n",
            "output = model.generate(input_ids, max_length=max_length)\n",
            "\n",
            "# Decodifique a resposta\n",
            "print(tokenizer.batch_decode(output, skip_special_tokens=True))\n",
            "```\n",
            "\n",
            "No código acima, definimos `max_length` como 128, o que significa que a resposta gerada terá no máximo 128 tokens. Você pode ajustar este valor de acordo com suas necessidades.\n",
            "\n",
            "**Observação:** O valor de `max_length` deve ser menor ou igual ao valor do parâmetro `max_length` do modelo. Para DialoGPT-medium, o valor máximo de `max_length` é 1024. \n",
            "\n",
            "Esperando prompt: fim\n"
          ]
        }
      ]
    }
  ]
}